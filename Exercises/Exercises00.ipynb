{
 "cells": [
  {
   "cell_type": "markdown",
   "metadata": {},
   "source": [
    "## Exercies 0.1 "
   ]
  },
  {
   "cell_type": "code",
   "execution_count": 1,
   "metadata": {},
   "outputs": [
    {
     "name": "stdout",
     "output_type": "stream",
     "text": [
      "The hypothenuse is 5.0\n"
     ]
    }
   ],
   "source": [
    "import math \n",
    "a = 3\n",
    "b = 4 \n",
    "\n",
    "hypothenuse = math.sqrt( a**2+ b**2)\n",
    "c = print(f\"The hypothenuse is {hypothenuse}\")\n"
   ]
  },
  {
   "cell_type": "code",
   "execution_count": 2,
   "metadata": {},
   "outputs": [
    {
     "name": "stdout",
     "output_type": "stream",
     "text": [
      "The leg is 4.9\n"
     ]
    }
   ],
   "source": [
    "import math \n",
    "c = 7.0 \n",
    "a = 5.0\n",
    "\n",
    "b = math.sqrt(c**2-a**2)\n",
    "b = print(f\"The leg is {b:.1f}\")\n"
   ]
  },
  {
   "cell_type": "markdown",
   "metadata": {},
   "source": [
    "## Exercies 0.2"
   ]
  },
  {
   "cell_type": "code",
   "execution_count": 3,
   "metadata": {},
   "outputs": [
    {
     "name": "stdout",
     "output_type": "stream",
     "text": [
      "The accuracy of this model is 82.2%\n"
     ]
    }
   ],
   "source": [
    "days = 365 \n",
    "correct_answer = 300 \n",
    "ratio = (correct_answer/days)\n",
    "p_c = (ratio* 100)\n",
    "accuracy = print(f\"The accuracy of this model is {p_c:.1f}%\")"
   ]
  },
  {
   "cell_type": "markdown",
   "metadata": {},
   "source": [
    "## Exercies 0.3"
   ]
  },
  {
   "cell_type": "code",
   "execution_count": 4,
   "metadata": {},
   "outputs": [
    {
     "name": "stdout",
     "output_type": "stream",
     "text": [
      "The accuracy of this model is 0.987\n"
     ]
    }
   ],
   "source": [
    "T_P = 2 \n",
    "F_P = 2 \n",
    "F_N = 11 \n",
    "T_N = 985 \n",
    "the_accuracy = (T_P + T_N) / ( T_P + T_N +F_P +F_N)\n",
    "The_answer = print(f\"The accuracy of this model is {the_accuracy}\")"
   ]
  },
  {
   "cell_type": "markdown",
   "metadata": {},
   "source": [
    "## Exercise 0.4\n"
   ]
  },
  {
   "cell_type": "code",
   "execution_count": 3,
   "metadata": {},
   "outputs": [
    {
     "name": "stdout",
     "output_type": "stream",
     "text": [
      "The slope is 0.75, the constant term m is 1.0\n"
     ]
    },
    {
     "data": {
      "image/png": "[encoded data removed]",
      "text/plain": [
       "<Figure size 640x480 with 1 Axes>"
      ]
     },
     "metadata": {},
     "output_type": "display_data"
    }
   ],
   "source": [
    "import matplotlib.pyplot as plt  \n",
    "x1, x2 = 0 , 4\n",
    "y1, y2 = 1 , 4\n",
    "k = (y1 - y2)/ (x1 - y2)\n",
    "m = y1 -k * x1\n",
    "k = print(f\"The slope is {k}, the constant term m is {m}\")\n",
    "\n",
    "x_axel = [x1,x2]\n",
    "y_axel = [y1,y2]\n",
    "\n",
    "plt.plot(x_axel,y_axel)\n",
    "plt.show()"
   ]
  },
  {
   "cell_type": "markdown",
   "metadata": {},
   "source": [
    "## Exercise 0.5"
   ]
  },
  {
   "cell_type": "code",
   "execution_count": 6,
   "metadata": {},
   "outputs": [
    {
     "name": "stdout",
     "output_type": "stream",
     "text": [
      "The distans is 5.1\n"
     ]
    }
   ],
   "source": [
    "import math \n",
    "x2 = -2\n",
    "x1 = 3\n",
    "y1 = 5\n",
    "y2 = 4\n",
    "distans = math.sqrt ((x2-x1)**2 + (y2-y1)**2)\n",
    "print(f\"The distans is {distans:.1f}\")"
   ]
  },
  {
   "cell_type": "markdown",
   "metadata": {},
   "source": [
    "## Exercise 0.6"
   ]
  },
  {
   "cell_type": "code",
   "execution_count": 7,
   "metadata": {},
   "outputs": [
    {
     "name": "stdout",
     "output_type": "stream",
     "text": [
      "The distans is  4.12\n"
     ]
    }
   ],
   "source": [
    "import numpy as np \n",
    "let_p1 = np.array([2,1,4])\n",
    "let_p2 = np.array ([3,1,0])\n",
    "distans = np.linalg.norm   (let_p1 - let_p2)  \n",
    "print(f\"The distans is {distans: .2f}\")\n",
    "\n",
    "\n",
    "\n"
   ]
  }
 ],
 "metadata": {
  "kernelspec": {
   "display_name": "Python 3",
   "language": "python",
   "name": "python3"
  },
  "language_info": {
   "codemirror_mode": {
    "name": "ipython",
    "version": 3
   },
   "file_extension": ".py",
   "mimetype": "text/x-python",
   "name": "python",
   "nbconvert_exporter": "python",
   "pygments_lexer": "ipython3",
   "version": "3.11.9"
  }
 },
 "nbformat": 4,
 "nbformat_minor": 2
}
