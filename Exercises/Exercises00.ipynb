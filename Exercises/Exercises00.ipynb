{
 "cells": [
  {
   "cell_type": "markdown",
   "metadata": {},
   "source": [
    "## Exercies 0.1 "
   ]
  },
  {
   "cell_type": "code",
   "execution_count": 5,
   "metadata": {},
   "outputs": [
    {
     "name": "stdout",
     "output_type": "stream",
     "text": [
      "The hypothenuse is 5.0\n"
     ]
    }
   ],
   "source": [
    "import math \n",
    "a = 3\n",
    "b = 4 \n",
    "\n",
    "hypothenuse = math.sqrt( a**2+ b**2)\n",
    "c = print(f\"The hypothenuse is {hypothenuse}\")\n"
   ]
  },
  {
   "cell_type": "code",
   "execution_count": 37,
   "metadata": {},
   "outputs": [
    {
     "name": "stdout",
     "output_type": "stream",
     "text": [
      "The leg is 4.9\n"
     ]
    }
   ],
   "source": [
    "import math \n",
    "c = 7.0 \n",
    "a = 5.0\n",
    "\n",
    "b = math.sqrt(c**2-a**2)\n",
    "b = print(f\"The leg is {b:.1f}\")\n"
   ]
  },
  {
   "cell_type": "markdown",
   "metadata": {},
   "source": [
    "## Exercies 0.2"
   ]
  },
  {
   "cell_type": "code",
   "execution_count": 39,
   "metadata": {},
   "outputs": [
    {
     "name": "stdout",
     "output_type": "stream",
     "text": [
      "The accuracy of this model is 82.2%\n"
     ]
    }
   ],
   "source": [
    "days = 365 \n",
    "correct_answer = 300 \n",
    "ratio = (correct_answer/days)\n",
    "p_c = (ratio* 100)\n",
    "accuracy = print(f\"The accuracy of this model is {p_c:.1f}%\")"
   ]
  },
  {
   "cell_type": "markdown",
   "metadata": {},
   "source": [
    "## Exercies 0.3"
   ]
  },
  {
   "cell_type": "code",
   "execution_count": 44,
   "metadata": {},
   "outputs": [
    {
     "name": "stdout",
     "output_type": "stream",
     "text": [
      "thos is 0.987\n"
     ]
    }
   ],
   "source": [
    "T_P = 2 \n",
    "F_P = 2 \n",
    "F_N = 11 \n",
    "T_N = 985 \n",
    "the_accuracy = (T_P + T_N) / ( T_P + T_N +F_P +F_N)\n",
    "The_answer = print(f\"thos is {the_accuracy}\")"
   ]
  },
  {
   "cell_type": "markdown",
   "metadata": {},
   "source": [
    "## Exercise 0.4\n"
   ]
  },
  {
   "cell_type": "code",
   "execution_count": null,
   "metadata": {},
   "outputs": [],
   "source": []
  },
  {
   "cell_type": "markdown",
   "metadata": {},
   "source": [
    "## Exercise 0.5"
   ]
  },
  {
   "cell_type": "code",
   "execution_count": 46,
   "metadata": {},
   "outputs": [
    {
     "name": "stdout",
     "output_type": "stream",
     "text": [
      "x är 3\n"
     ]
    }
   ],
   "source": [
    "x = int(input(\"Skirv en \"))\n",
    "print(f\"x är {x}\")"
   ]
  }
 ],
 "metadata": {
  "kernelspec": {
   "display_name": "Python 3",
   "language": "python",
   "name": "python3"
  },
  "language_info": {
   "codemirror_mode": {
    "name": "ipython",
    "version": 3
   },
   "file_extension": ".py",
   "mimetype": "text/x-python",
   "name": "python",
   "nbconvert_exporter": "python",
   "pygments_lexer": "ipython3",
   "version": "3.11.9"
  }
 },
 "nbformat": 4,
 "nbformat_minor": 2
}
